{
 "cells": [
  {
   "cell_type": "code",
   "execution_count": 1,
   "metadata": {},
   "outputs": [],
   "source": [
    "def write_to_hpp_file(data, filename):\n",
    "    with open(filename, 'w') as f:\n",
    "        f.write(\"#ifndef DATA_2D_HPP\\n\")\n",
    "        f.write(\"#define DATA_2D_HPP\\n\\n\")\n",
    "        max_length = max(len(row) for row in data)\n",
    "        f.write(\"const int data_len = {};\\n\".format(len(data)))\n",
    "        f.write(\"const float data[{}][{}] = {{\\n\".format(len(data), max_length))\n",
    "\n",
    "        for i, row in enumerate(data):\n",
    "            f.write(\"\\t{\")\n",
    "            for j, element in enumerate(row):\n",
    "                if j != 0:\n",
    "                    f.write(\", \")\n",
    "                f.write(str(element))\n",
    "            f.write(\"}\")\n",
    "            if i != len(data) - 1:\n",
    "                f.write(\",\\n\")\n",
    "            else:\n",
    "                f.write(\"\\n\")\n",
    "\n",
    "        f.write(\"};\\n\\n\")\n",
    "        f.write(\"#endif // DATA_2D_HPP\\n\")"
   ]
  },
  {
   "cell_type": "code",
   "execution_count": 9,
   "metadata": {},
   "outputs": [],
   "source": [
    "import csv\n",
    "data_file_name = '/root/CPSC_2018_Read/CPSC_2021.csv'\n",
    "\n",
    "\n",
    "data = []\n",
    "\n",
    "with open(data_file_name, 'r') as file:\n",
    "    reader = csv.reader(file)\n",
    "    annot_name = 'data_25_1'\n",
    "    for row in reader:\n",
    "        if len(row) > 1:\n",
    "            # print(row[0])\n",
    "            if row[0] == annot_name:\n",
    "                if row[1] == 'False':\n",
    "                    row[1] = 0\n",
    "                elif row[1] == 'True':\n",
    "                    row[1] = 1\n",
    "                else:\n",
    "                    # print(row[1])\n",
    "                    print('Error')\n",
    "                \n",
    "                data.append(row[1:8])\n",
    "            \n",
    "        \n",
    "write_to_hpp_file(data, 'data.hpp')\n"
   ]
  },
  {
   "cell_type": "code",
   "execution_count": 18,
   "metadata": {},
   "outputs": [
    {
     "name": "stdout",
     "output_type": "stream",
     "text": [
      "18\n"
     ]
    }
   ],
   "source": [
    "write_to_hpp_file(data, annot_name + '.hpp')"
   ]
  },
  {
   "cell_type": "code",
   "execution_count": null,
   "metadata": {},
   "outputs": [],
   "source": []
  }
 ],
 "metadata": {
  "kernelspec": {
   "display_name": "Python 3",
   "language": "python",
   "name": "python3"
  },
  "language_info": {
   "codemirror_mode": {
    "name": "ipython",
    "version": 3
   },
   "file_extension": ".py",
   "mimetype": "text/x-python",
   "name": "python",
   "nbconvert_exporter": "python",
   "pygments_lexer": "ipython3",
   "version": "3.10.12"
  }
 },
 "nbformat": 4,
 "nbformat_minor": 2
}
